{
  "cells": [
    {
      "cell_type": "code",
      "execution_count": 1,
      "metadata": {
        "pycharm": {
          "name": "#%%\n"
        },
        "id": "5UNmMgM1qWx1"
      },
      "outputs": [],
      "source": [
        "import math"
      ]
    },
    {
      "cell_type": "markdown",
      "metadata": {
        "pycharm": {
          "name": "#%% md\n"
        },
        "id": "gzYA_yjXqWx3"
      },
      "source": [
        "Параметр задачи - сигма\n",
        "## TODO Какой смысл у сигмы?"
      ]
    },
    {
      "cell_type": "markdown",
      "metadata": {
        "pycharm": {
          "name": "#%% md\n"
        },
        "id": "GEz-RwOyqWx4"
      },
      "source": [
        "___\n",
        "Формула: $ \\sigma(x) = \\sqrt{\\sum\\limits_{i=1}^d a_{i} \\cdot \\left| x_{i} + b_{i} \\right|} $ \n",
        "\n",
        "Обозначение в коде: sigma_ot_x = $ \\sigma(x) $\n",
        "\n",
        "___\n",
        "\n",
        "где i - нижняя граница диапазона (чего?)\n",
        "\n",
        "d - верхняя\n",
        "\n",
        "a -\n",
        "\n",
        "x -\n",
        "\n",
        "b -\n",
        "___"
      ]
    },
    {
      "cell_type": "markdown",
      "metadata": {
        "pycharm": {
          "name": "#%% md\n"
        },
        "id": "Kf9z1pccqWx5"
      },
      "source": [
        "$ \\eta_N^h (t_\\nu, x) = \\sigma(x) $\n",
        "\n",
        "$ x \\in k^h (p + i \\cdot h) $\n",
        "\n",
        "___\n",
        "\n",
        "где h - параметр, который отвечает за\n",
        "\n",
        "t -\n",
        "\n",
        "x -\n",
        "\n",
        "p -  \n",
        "\n",
        "i - \n",
        "\n",
        "k - \n",
        "\n",
        "$ \\eta -  $ \n",
        "\n",
        "___"
      ]
    },
    {
      "cell_type": "code",
      "execution_count": null,
      "metadata": {
        "pycharm": {
          "name": "#%%\n"
        },
        "id": "8aE7wjEWqWx5"
      },
      "outputs": [],
      "source": [
        "sigma_parameters = [(2, 2, 4), (3, 4, 5)]\n",
        "\n",
        "\n",
        "def pod_kornem_sigma_ot_x(sigma_parameters: tuple):\n",
        "    a, x, b = sigma_parameters\n",
        "    return a * math.fabs(x - b) ** 2\n",
        "\n",
        "sigma_ot_x = math.sqrt(sum(map(pod_kornem_sigma_ot_x, sigma_parameters)))"
      ]
    },
    {
      "cell_type": "markdown",
      "metadata": {
        "id": "gxgdj2QAqWx5"
      },
      "source": [
        "[link text](https://)# Шофер-убийца\n",
        "\n"
      ]
    },
    {
      "cell_type": "markdown",
      "metadata": {
        "id": "ZHeuYLFhqWx6"
      },
      "source": [
        "Правила (параметры) игры\n",
        "\n",
        "$ \\dot{x_{1}} = \\cos{x_3} + \\upsilon_1 $\n",
        "\n",
        "$ \\dot{x_{2}} = \\sin{x_3} + \\upsilon_2 $  \n",
        "\n",
        "$ \\dot{x_{3}} = u $  \n",
        "\n",
        "$ \\upsilon_1^2 + \\upsilon_2^2 \\leqslant b^2$ \n",
        "\n",
        "$ \\left|u\\right| \\leqslant b^2 $ \n",
        "\n",
        "$ \\sigma (x_{1}, x_{2}, x_{3}) = x_{1}^2 + x_{2}^2$ \n",
        "\n",
        "___\n",
        "\n",
        "где, $ x_{1} $ - x-вая координата автомобиля относительно пешехода\n",
        "\n",
        "$ x_{2} $ - y-вая координата автомобиля относительно пешехода\n",
        "\n",
        "$ x_{3} $ - угол автомобиля относительно осей координат\n",
        "\n",
        "$ \\dot{x_{1}} $ - скорость изменения x_1\n",
        "\n",
        "$ \\dot{x_{2}} $ - скорость изменения x_2\n",
        "\n",
        "$ \\dot{x_{2}} $ - скорость изменения x_3\n",
        "\n",
        "$ \\cos{x_3} $ - x-я координата вектора, повернутого на угол x_3\n",
        "\n",
        "$ \\sin{x_3} $ - y-я координата вектора, повернутого на угол x_3\n",
        "\n",
        "$ u $ - управление автомобилем, угол поворота руля?\n",
        "\n",
        "$ \\upsilon_1 $ - x-вая координата скорости мальчика\n",
        "\n",
        "$ \\upsilon_2 $ - y-вая координата скорости мальчика\n",
        "___\n",
        "\n",
        "Цель шофёра, управляемого u - максимально сблизиться с $ x_{1} $, управляемой $\\upsilon_1 $"
      ]
    },
    {
      "cell_type": "markdown",
      "source": [
        "![title](https://github.com/kocmocgim/ROI/blob/master/pic/for1.png?raw=1)\n",
        "\n",
        "https://disk.yandex.ru/i/8ry-zgd2asCwcQ"
      ],
      "metadata": {
        "collapsed": false,
        "pycharm": {
          "name": "#%% md\n"
        },
        "id": "6tr1vGDRqWx6"
      }
    },
    {
      "cell_type": "markdown",
      "source": [
        "# Итерационный счёт в обратном порядке"
      ],
      "metadata": {
        "collapsed": false,
        "pycharm": {
          "name": "#%% md\n"
        },
        "id": "IFxBgH3vqWx7"
      }
    },
    {
      "cell_type": "code",
      "execution_count": null,
      "outputs": [],
      "source": [
        "# TODO N - это что? Как правильно назвать\n",
        "N_ = 10\n",
        "for i in reversed(range(N_)):\n",
        "    print(i)"
      ],
      "metadata": {
        "pycharm": {
          "name": "#%%\n"
        },
        "id": "yHcNM4Z6qWx7"
      }
    },
    {
      "cell_type": "markdown",
      "source": [
        "Массив сужается каждую итерацию"
      ],
      "metadata": {
        "collapsed": false,
        "pycharm": {
          "name": "#%% md\n"
        },
        "id": "dj5NajYTqWx7"
      }
    },
    {
      "cell_type": "markdown",
      "source": [
        "# Разделить динамику игры на две части\n",
        "За первого игрока и за второго"
      ],
      "metadata": {
        "collapsed": false,
        "pycharm": {
          "name": "#%% md\n"
        },
        "id": "h173liksqWx7"
      }
    },
    {
      "cell_type": "markdown",
      "metadata": {
        "id": "RdagmYhcqWx8"
      },
      "source": [
        "Массив сужается каждую итерацию"
      ]
    },
    {
      "cell_type": "markdown",
      "metadata": {
        "id": "TTt0fGhsqWx8"
      },
      "source": [
        "# Разделить динамику игры на две части\n",
        "За первого игрока и за второго"
      ]
    },
    {
      "cell_type": "code",
      "execution_count": null,
      "metadata": {
        "id": "NuXqqU5sqWx8"
      },
      "outputs": [],
      "source": [
        ""
      ]
    }
  ],
  "metadata": {
    "kernelspec": {
      "display_name": "Python 3 (ipykernel)",
      "language": "python",
      "name": "python3"
    },
    "language_info": {
      "codemirror_mode": {
        "name": "ipython",
        "version": 3
      },
      "file_extension": ".py",
      "mimetype": "text/x-python",
      "name": "python",
      "nbconvert_exporter": "python",
      "pygments_lexer": "ipython3",
      "version": "3.10.4"
    },
    "colab": {
      "name": "main.ipynb",
      "provenance": []
    }
  },
  "nbformat": 4,
  "nbformat_minor": 0
}